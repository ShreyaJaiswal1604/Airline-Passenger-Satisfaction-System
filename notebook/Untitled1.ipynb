{
 "cells": [
  {
   "cell_type": "code",
   "execution_count": 6,
   "id": "a24511f2",
   "metadata": {},
   "outputs": [
    {
     "ename": "ModuleNotFoundError",
     "evalue": "No module named 'wordcloud'",
     "output_type": "error",
     "traceback": [
      "\u001b[0;31m---------------------------------------------------------------------------\u001b[0m",
      "\u001b[0;31mModuleNotFoundError\u001b[0m                       Traceback (most recent call last)",
      "Cell \u001b[0;32mIn [6], line 8\u001b[0m\n\u001b[1;32m      6\u001b[0m \u001b[38;5;28;01mfrom\u001b[39;00m \u001b[38;5;21;01mplotnine\u001b[39;00m \u001b[38;5;28;01mimport\u001b[39;00m \u001b[38;5;241m*\u001b[39m\n\u001b[1;32m      7\u001b[0m \u001b[38;5;28;01mfrom\u001b[39;00m \u001b[38;5;21;01mpandas\u001b[39;00m \u001b[38;5;28;01mimport\u001b[39;00m DataFrame, read_csv\n\u001b[0;32m----> 8\u001b[0m \u001b[38;5;28;01mfrom\u001b[39;00m \u001b[38;5;21;01mwordcloud\u001b[39;00m \u001b[38;5;28;01mimport\u001b[39;00m WordCloud\n\u001b[1;32m      9\u001b[0m \u001b[38;5;28;01mimport\u001b[39;00m \u001b[38;5;21;01mmatplotlib\u001b[39;00m\u001b[38;5;21;01m.\u001b[39;00m\u001b[38;5;21;01mpyplot\u001b[39;00m \u001b[38;5;28;01mas\u001b[39;00m \u001b[38;5;21;01mplt\u001b[39;00m\n",
      "\u001b[0;31mModuleNotFoundError\u001b[0m: No module named 'wordcloud'"
     ]
    }
   ],
   "source": [
    "from sqlalchemy import create_engine\n",
    "\n",
    "import re\n",
    "import pandas as pd\n",
    "import numpy as np\n",
    "from plotnine import *\n",
    "from pandas import DataFrame, read_csv\n",
    "from wordcloud import WordCloud\n",
    "import matplotlib.pyplot as plt"
   ]
  },
  {
   "cell_type": "code",
   "execution_count": 11,
   "id": "e6d4bf30",
   "metadata": {},
   "outputs": [],
   "source": [
    "def stripChar(x):\n",
    "    try:\n",
    "        return re.sub(\"[()\\\"]\",\"\",x)\n",
    "    except:\n",
    "        return np.nan"
   ]
  },
  {
   "cell_type": "code",
   "execution_count": null,
   "id": "1eed4c6a",
   "metadata": {},
   "outputs": [],
   "source": [
    "#MYSQL CONNECTIONS\n",
    "\n",
    "mysql_user = \"root\"\n",
    "mysql_password = \"localhost\"\n",
    "mysql_database = \"airline_passenger_satisfaction\"\n",
    "mysql_host = \"127.0.0.1\"\n",
    "port = 3306\n",
    "\n",
    "sqlEngine = create_engine(f'mysql+pymysql://{mysql_user}:{mysql_password}@{mysql_host}/{mysql_database}',pool_recycle=port)\n",
    "dbConnection = sqlEngine.connect()"
   ]
  },
  {
   "cell_type": "code",
   "execution_count": 12,
   "id": "948a1529",
   "metadata": {},
   "outputs": [],
   "source": [
    "#AIRLINE REVIEWS\n",
    "\n",
    "#Reading the Airline CSV files\n",
    "def readData():\n",
    "    colnames = ['airline_name','overall_score','review_title','reviewer_country','review_date','aircraft_model','travel_type','seat_type','route','date_flown','seat_comfort_rating','service_rating','food_rating','entertainment_rating','groundservice_rating','wifi_rating','value_rating','recommended']\n",
    "    Afrance = pd.read_csv(\"/Users/skudli/Desktop/air-france.csv\",header = None,names = colnames)\n",
    "#     Ana = pd.read_csv(\"/Users/shreyajaiswal/Desktop/Shreya/Semester_one/DMDD/Assignment 3 /Web_Scrapping_Data/Airlines_Data/ana-all-nippon-airways.csv\",header = None,names = colnames)\n",
    "#     Emirates = pd.read_csv(\"/Users/shreyajaiswal/Desktop/Shreya/Semester_one/DMDD/Assignment 3 /Web_Scrapping_Data/Airlines_Data/emirates.csv\",header = None,names = colnames)\n",
    "#     Japan = pd.read_csv(\"/Users/shreyajaiswal/Desktop/Shreya/Semester_one/DMDD/Assignment 3 /Web_Scrapping_Data/Airlines_Data/japan-airlines.csv\",header = None,names = colnames)\n",
    "#     Korean = pd.read_csv(\"/Users/shreyajaiswal/Desktop/Shreya/Semester_one/DMDD/Assignment 3 /Web_Scrapping_Data/Airlines_Data/korean-air.csv\",header = None,names = colnames)\n",
    "#     Qantas = pd.read_csv(\"/Users/shreyajaiswal/Desktop/Shreya/Semester_one/DMDD/Assignment 3 /Web_Scrapping_Data/Airlines_Data/qantas-airways.csv\",header = None,names = colnames)\n",
    "#     Qatar = pd.read_csv(\"/Users/shreyajaiswal/Desktop/Shreya/Semester_one/DMDD/Assignment 3 /Web_Scrapping_Data/Airlines_Data/qatar-airways.csv\",header = None,names = colnames)\n",
    "#     Singapore = pd.read_csv(\"/Users/shreyajaiswal/Desktop/Shreya/Semester_one/DMDD/Assignment 3 /Web_Scrapping_Data/Airlines_Data/singapore-airlines.csv\",header = None,names = colnames)\n",
    "#     Swiss = pd.read_csv(\"/Users/shreyajaiswal/Desktop/Shreya/Semester_one/DMDD/Assignment 3 /Web_Scrapping_Data/Airlines_Data/swiss-international-air-lines.csv\",header = None,names = colnames)\n",
    "#     Turkish = pd.read_csv(\"/Users/shreyajaiswal/Desktop/Shreya/Semester_one/DMDD/Assignment 3 /Web_Scrapping_Data/Airlines_Data/turkish-airlines.csv\",header = None,names = colnames)\n",
    "#     df = pd.concat([Afrance,Afrance,Ana,Emirates,Japan,Korean,Qantas,Qatar,Singapore,Swiss,Turkish])\n",
    "    df = pd.concat([Afrance])\n",
    "    return df\n"
   ]
  },
  {
   "cell_type": "code",
   "execution_count": 13,
   "id": "49fd52ee",
   "metadata": {},
   "outputs": [],
   "source": [
    "#READ DATA\n",
    "df_airline_reviews = readData()\n",
    "df_airline_reviews\n",
    "\n",
    "#DROP DUPLICATES\n",
    "df_airline_reviews = df_airline_reviews.drop_duplicates(keep='first')\n",
    "\n",
    "#DROP AIRLINE_REVIEWS ROW 0\n",
    "df_airline_reviews = df_airline_reviews.drop([0])\n",
    "\n",
    "\n",
    "#STRIP CHARACTERS\n",
    "df_airline_reviews.review_title = df_airline_reviews.review_title.apply(lambda x: stripChar(x))\n",
    "df_airline_reviews.reviewer_country = df_airline_reviews.reviewer_country.apply(lambda x: stripChar(x))\n",
    "#display(df_airline_reviews)\n",
    "\n",
    "\n",
    "#FILL EMPTY CELLS WITH VAL 0\n",
    "df_airline_reviews.recommended = df_airline_reviews.recommended.fillna(value = 0)\n",
    "#display(df_airline_reviews)\n",
    "\n",
    "#FILL 1 TO CELLS WITH VAL YES\n",
    "df_airline_reviews.recommended = df_airline_reviews.recommended.eq('yes').mul(1)\n",
    "#display(df_airline_reviews)\n",
    "\n",
    "#DATETIME CHANGES\n",
    "df_airline_reviews['review_date'] = pd.to_datetime(df_airline_reviews['review_date'])\n",
    "# df_airline_reviews['year'] = df_airline_reviews['review_date'].dt.year\n",
    "# df_airline_reviews['month'] = df_airline_reviews['review_date'].dt.month\n",
    "# df_airline_reviews.drop(['date_flown'], axis=1)\n",
    "\n",
    "\n",
    "#display(df_airline_reviews)"
   ]
  },
  {
   "cell_type": "code",
   "execution_count": 17,
   "id": "58cc90ab",
   "metadata": {},
   "outputs": [
    {
     "ename": "NameError",
     "evalue": "name 'df_airlines_merge' is not defined",
     "output_type": "error",
     "traceback": [
      "\u001b[0;31m---------------------------------------------------------------------------\u001b[0m",
      "\u001b[0;31mNameError\u001b[0m                                 Traceback (most recent call last)",
      "Cell \u001b[0;32mIn [17], line 3\u001b[0m\n\u001b[1;32m      1\u001b[0m \u001b[38;5;66;03m#POPULATE AIRLINE TABLE\u001b[39;00m\n\u001b[0;32m----> 3\u001b[0m df_airline \u001b[38;5;241m=\u001b[39m \u001b[43mdf_airlines_merge\u001b[49m[[\u001b[38;5;124m'\u001b[39m\u001b[38;5;124miata_airline\u001b[39m\u001b[38;5;124m'\u001b[39m,\u001b[38;5;124m'\u001b[39m\u001b[38;5;124micao_airline\u001b[39m\u001b[38;5;124m'\u001b[39m,\u001b[38;5;124m'\u001b[39m\u001b[38;5;124mairline_name\u001b[39m\u001b[38;5;124m'\u001b[39m,\u001b[38;5;124m'\u001b[39m\u001b[38;5;124mactive\u001b[39m\u001b[38;5;124m'\u001b[39m]]\n\u001b[1;32m      4\u001b[0m df_airline \u001b[38;5;241m=\u001b[39m df_airline\u001b[38;5;241m.\u001b[39mdrop_duplicates(keep\u001b[38;5;241m=\u001b[39m\u001b[38;5;124m'\u001b[39m\u001b[38;5;124mfirst\u001b[39m\u001b[38;5;124m'\u001b[39m)\n\u001b[1;32m      5\u001b[0m \u001b[38;5;66;03m# df_airline\u001b[39;00m\n\u001b[1;32m      6\u001b[0m \n\u001b[1;32m      7\u001b[0m \n\u001b[1;32m      8\u001b[0m \u001b[38;5;66;03m#df_airline=df_airline.drop_duplicates(subset = ['iata_airline'], keep = 'first', inplace = True) \u001b[39;00m\n",
      "\u001b[0;31mNameError\u001b[0m: name 'df_airlines_merge' is not defined"
     ]
    }
   ],
   "source": [
    "#POPULATE AIRLINE TABLE\n",
    "\n",
    "df_airline = df_airlines_merge[['iata_airline','icao_airline','airline_name','active']]\n",
    "df_airline = df_airline.drop_duplicates(keep='first')\n",
    "# df_airline\n",
    "\n",
    "\n",
    "#df_airline=df_airline.drop_duplicates(subset = ['iata_airline'], keep = 'first', inplace = True) \n",
    "df_airline_final = df_airline\n",
    "\n",
    "\n",
    "#WRITING THE TABLE TO DATABASE\n",
    "df_airline_final.to_sql(con=dbConnection,name='AIRLINES',if_exists='append',index=False)\n",
    "\n",
    "display(df_airline_final)\n",
    "print(\"AIRLINES table added to database successfully\")\n",
    "len(list(df_country_airline['country_airline_id'].unique()))"
   ]
  },
  {
   "cell_type": "code",
   "execution_count": 16,
   "id": "573b07d6",
   "metadata": {},
   "outputs": [
    {
     "ename": "NameError",
     "evalue": "name 'df_airline_final' is not defined",
     "output_type": "error",
     "traceback": [
      "\u001b[0;31m---------------------------------------------------------------------------\u001b[0m",
      "\u001b[0;31mNameError\u001b[0m                                 Traceback (most recent call last)",
      "Cell \u001b[0;32mIn [16], line 7\u001b[0m\n\u001b[1;32m      1\u001b[0m \u001b[38;5;66;03m# df_new = df_airline_reviews[['airline_name']]\u001b[39;00m\n\u001b[1;32m      2\u001b[0m \u001b[38;5;66;03m# #df_new['value']=df_airline_reviews.airline_name.str.lower().isin(list(df_airline_final.airline_name.str.lower()))\u001b[39;00m\n\u001b[1;32m      3\u001b[0m \u001b[38;5;66;03m# df_new=df_new.loc[df_new['value'].isin([True])]\u001b[39;00m\n\u001b[1;32m      4\u001b[0m \u001b[38;5;66;03m# df_new=df_new.drop_duplicates(keep='first')\u001b[39;00m\n\u001b[1;32m      5\u001b[0m \u001b[38;5;66;03m# df_new\u001b[39;00m\n\u001b[0;32m----> 7\u001b[0m df_airline_final[\u001b[38;5;124m'\u001b[39m\u001b[38;5;124mairline_name\u001b[39m\u001b[38;5;124m'\u001b[39m] \u001b[38;5;241m=\u001b[39m \u001b[43mdf_airline_final\u001b[49m[\u001b[38;5;124m'\u001b[39m\u001b[38;5;124mairline_name\u001b[39m\u001b[38;5;124m'\u001b[39m]\u001b[38;5;241m.\u001b[39mstr\u001b[38;5;241m.\u001b[39mlower()\n\u001b[1;32m      8\u001b[0m df_airline_final\n\u001b[1;32m     10\u001b[0m df_airlines_iata \u001b[38;5;241m=\u001b[39m df_airline_final[[\u001b[38;5;124m'\u001b[39m\u001b[38;5;124mairline_name\u001b[39m\u001b[38;5;124m'\u001b[39m,\u001b[38;5;124m'\u001b[39m\u001b[38;5;124miata_airline\u001b[39m\u001b[38;5;124m'\u001b[39m]]\n",
      "\u001b[0;31mNameError\u001b[0m: name 'df_airline_final' is not defined"
     ]
    }
   ],
   "source": [
    "# df_new = df_airline_reviews[['airline_name']]\n",
    "# #df_new['value']=df_airline_reviews.airline_name.str.lower().isin(list(df_airline_final.airline_name.str.lower()))\n",
    "# df_new=df_new.loc[df_new['value'].isin([True])]\n",
    "# df_new=df_new.drop_duplicates(keep='first')\n",
    "# df_new\n",
    "\n",
    "df_airline_final['airline_name'] = df_airline_final['airline_name'].str.lower()\n",
    "df_airline_final\n",
    "\n",
    "df_airlines_iata = df_airline_final[['airline_name','iata_airline']]\n",
    "df_airlines_iata\n",
    "\n",
    "#MERGING \n",
    "merge_df = pd.merge(df_airline_reviews, df_airlines_iata, on='airline_name', how='left')\n",
    "df_review_main = merge_df\n",
    "df_review_main"
   ]
  },
  {
   "cell_type": "code",
   "execution_count": null,
   "id": "cc1d218b",
   "metadata": {},
   "outputs": [],
   "source": [
    "##POPULATE AIRLINE_REVIEWS TABLE\n",
    "\n",
    "df_review_final = df_review_main[['iata_airline','review_title','review_date','seat_comfort_rating','service_rating','food_rating','entertainment_rating','groundservice_rating','wifi_rating','value_rating','overall_score','recommended']]\n",
    "df_review_final = df_review_final.drop_duplicates(keep='first')\n",
    "df_review_final\n",
    "\n",
    "\n",
    "#WRITING THE TABLE TO DATABASE\n",
    "df_review_final.to_sql(con=dbConnection,name='AIRLINE_REVIEWS',if_exists='replace',index=False)\n",
    "\n",
    "display(df_country_airline)\n",
    "print(\"AIRLINE_REVIEWS table added to database successfully\")"
   ]
  }
 ],
 "metadata": {
  "kernelspec": {
   "display_name": "env",
   "language": "python",
   "name": "env"
  },
  "language_info": {
   "codemirror_mode": {
    "name": "ipython",
    "version": 3
   },
   "file_extension": ".py",
   "mimetype": "text/x-python",
   "name": "python",
   "nbconvert_exporter": "python",
   "pygments_lexer": "ipython3",
   "version": "3.10.7"
  }
 },
 "nbformat": 4,
 "nbformat_minor": 5
}
