{
 "cells": [
  {
   "cell_type": "code",
   "execution_count": null,
   "id": "9ff19ce8",
   "metadata": {},
   "outputs": [],
   "source": [
    "import mysql.connector\n",
    "\n",
    "user = 'root'\n",
    "password = 'localhost'\n",
    "db = 'airline_passenger_satisfaction'\n",
    "host='127.0.0.1'\n",
    "\n",
    "#establishing the connection and creating cursor\n",
    "try:\n",
    "    conn = mysql.connector.connect(user = user, password = password, host = host, database = db)\n",
    "    cursor = conn.cursor()\n",
    "    print(\"Connection established to\", db)\n",
    "except:\n",
    "    print(\"Error\")"
   ]
  },
  {
   "cell_type": "code",
   "execution_count": null,
   "id": "67fd3dae",
   "metadata": {},
   "outputs": [],
   "source": []
  },
  {
   "cell_type": "code",
   "execution_count": null,
   "id": "7c9fc0ad",
   "metadata": {},
   "outputs": [],
   "source": [
    "#Closing the connection\n",
    "conn.close()"
   ]
  }
 ],
 "metadata": {
  "kernelspec": {
   "display_name": "env",
   "language": "python",
   "name": "env"
  },
  "language_info": {
   "codemirror_mode": {
    "name": "ipython",
    "version": 3
   },
   "file_extension": ".py",
   "mimetype": "text/x-python",
   "name": "python",
   "nbconvert_exporter": "python",
   "pygments_lexer": "ipython3",
   "version": "3.10.7"
  }
 },
 "nbformat": 4,
 "nbformat_minor": 5
}
