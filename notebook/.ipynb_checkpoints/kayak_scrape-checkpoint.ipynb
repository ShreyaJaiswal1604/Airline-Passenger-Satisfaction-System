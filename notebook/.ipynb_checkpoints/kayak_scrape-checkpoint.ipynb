{
 "cells": [
  {
   "cell_type": "code",
   "execution_count": 118,
   "id": "9c2c1df2",
   "metadata": {},
   "outputs": [
    {
     "name": "stdout",
     "output_type": "stream",
     "text": [
      "https://www.kayak.com/flights/JFK-ATL/2022-11-30?sort=bestflight_a\n"
     ]
    }
   ],
   "source": [
    "origin = \"JFK\"\n",
    "destination = \"ATL\"\n",
    "startdate = \"2022-12-10\"\n",
    "\n",
    "url1 = \"https://www.kayak.com/flights/\" + origin + \"-\" + destination + \"/\" + startdate + \"?sort=bestflight_a\"\n",
    "url2 = \"https://www.kayak.com/flights/\" + origin + \"-\" + destination + \"/\" + startdate + \"?sort=duration_b\"\n",
    "headers = {\n",
    "    \"accept\": \"application/json, text/javascript, */*; q=0.01\",\n",
    "    \"accept-language\": \"en-US,en;q=0.9,pl;q=0.8\",\n",
    "    \"user-agent\": \"Mozilla/5.0 (X11; Linux x86_64) AppleWebKit/537.36 (KHTML, like Gecko) Chrome/84.0.4147.135 Safari/537.36\"\n",
    "}\n",
    "print(url1)"
   ]
  },
  {
   "cell_type": "code",
   "execution_count": 135,
   "id": "9fda5b2c",
   "metadata": {},
   "outputs": [
    {
     "name": "stdout",
     "output_type": "stream",
     "text": [
      "   origin destination   startdate  price currency  deptime  arrtime  duration\n",
      "0     JFK         ATL  2022-12-30    129      USD  11:00pm   1:35pm   2h 35m \n",
      "1     JFK         ATL  2022-12-30    120      USD   8:00pm  11:00pm  15h 00m \n",
      "2     JFK         ATL  2022-12-30    254      USD   3:20pm   6:01pm   2h 41m \n",
      "3     JFK         ATL  2022-12-30    279      USD   7:35pm  10:24pm   2h 49m \n",
      "4     JFK         ATL  2022-12-30    199      USD   9:45pm  12:16pm   2h 31m \n",
      "5     JFK         ATL  2022-12-30    240      USD   9:45pm  12:16pm   2h 31m \n",
      "6     JFK         ATL  2022-12-30    219      USD   6:00am   8:38am   2h 38m \n",
      "7     JFK         ATL  2022-12-30    279      USD  12:00pm   2:39pm   2h 39m \n",
      "8     JFK         ATL  2022-12-30    333      USD   3:20pm   6:01pm   2h 41m \n",
      "9     JFK         ATL  2022-12-30    219      USD   8:15am  11:02am   2h 47m \n",
      "10    JFK         ATL  2022-12-30    224      USD   8:00am  10:42am   2h 42m \n",
      "11    JFK         ATL  2022-12-30    399      USD   3:59pm   6:44pm   2h 45m \n",
      "12    JFK         ATL  2022-12-30    265      USD   8:00am  10:42am   2h 42m \n",
      "13    JFK         ATL  2022-12-30    357      USD   7:29pm  11:58pm   4h 29m \n",
      "14    JFK         ATL  2022-12-30    357      USD   4:15pm   9:26pm   5h 11m \n",
      "15    JFK         ATL  2022-12-30    437      USD   4:15pm   8:29pm   4h 14m \n"
     ]
    }
   ],
   "source": [
    "from bs4 import BeautifulSoup\n",
    "import requests\n",
    "import numpy as np\n",
    "import pandas as pd\n",
    "import re\n",
    "\n",
    "def scrapeDataFromKayak(url1):\n",
    "    deptime = []\n",
    "    arrtime = []\n",
    "    meridiem = []\n",
    "    airline = []\n",
    "    flight_number = []\n",
    "    price = []\n",
    "    airline = []\n",
    "    duration = []\n",
    "    \n",
    "    r = requests.get(url1, headers=headers)\n",
    "    soup = BeautifulSoup(r.text, 'html.parser')\n",
    "    \n",
    "    if soup.find_all('p')[0].getText() == \"Please confirm that you are a real KAYAK user.\":\n",
    "        print(\"Kayak thinks I'm a bot, which I am ... so let's wait a bit and try again\")\n",
    "        time.sleep(20)\n",
    "        return \"failure\"\n",
    "\n",
    "    deptimes = soup.find_all('span', attrs={'class': 'depart-time base-time'})\n",
    "    arrtimes = soup.find_all('span', attrs={'class': 'arrival-time base-time'})\n",
    "    meridies = soup.find_all('span', attrs={'class': 'time-meridiem meridiem'})\n",
    "    airlines = soup.find_all('div', attrs={'class': 'bottom'})\n",
    "    flight_number = soup.find_all('div', attrs={'class': 'nAz5-carrier-text'})\n",
    "    price_list = soup.find_all('span', attrs={'class': 'price-text'})\n",
    "    airlines = soup.find_all('div', attrs={'class': 'nAz5-carrier-text'})\n",
    "\n",
    "    for div in deptimes:\n",
    "        deptime.append(div.getText()[:-1])\n",
    "\n",
    "    for div in arrtimes:\n",
    "        arrtime.append(div.getText()[:-1])\n",
    "\n",
    "    for div in meridies:\n",
    "        meridiem.append(div.getText())\n",
    "        \n",
    "    for div in airline:\n",
    "        airline.append(int(div.getText().split('\\n')[1][1:-1].replace(',', '')))\n",
    "\n",
    "    for div in price_list:\n",
    "        price.append(int(div.getText().split('\\n')[1][1:-1].replace(',', '')))\n",
    "        \n",
    "    for div in airlines:\n",
    "        airline.append(div.getText())\n",
    "                \n",
    "#     deptime = np.asarray(deptime)\n",
    "#     arrtime = np.asarray(arrtime)\n",
    "    meridiem = np.asarray(meridiem)\n",
    "    meridiem = meridiem.reshape(int(len(meridiem)/2), 2)\n",
    "\n",
    "    df = pd.DataFrame({\n",
    "        \"origin\" : origin,\n",
    "        \"destination\" : destination,\n",
    "        \"startdate\" : startdate,\n",
    "        \"price\": price,\n",
    "        \"currency\": \"USD\",\n",
    "        \"deptime\": [m+str(n[0]) for m,n in zip(deptime,meridiem)],\n",
    "        \"arrtime\": [m+str(n[0]) for m,n in zip(arrtime,meridiem)],\n",
    "        \"duration\": duration\n",
    "#         \"airline\": airline\n",
    "    })\n",
    "    print(df)\n",
    "    \n",
    "scrapeDataFromKayak(url1)"
   ]
  },
  {
   "cell_type": "code",
   "execution_count": null,
   "id": "79f53dad",
   "metadata": {},
   "outputs": [],
   "source": [
    "from selenium import webdriver\n",
    "from webdriver_manager.chrome import ChromeDriverManager\n",
    "\n",
    "options = webdriver.ChromeOptions()\n",
    "# driver = new ChromeDriver('/Users/skudli/Downloads/chromedriver');\n",
    "driver = webdriver.Chrome(ChromeDriverManager().install())\n",
    "\n",
    "url = \"https://untappd.com/\"\n",
    "driver.get(url)"
   ]
  },
  {
   "cell_type": "code",
   "execution_count": null,
   "id": "102f0312",
   "metadata": {},
   "outputs": [],
   "source": []
  },
  {
   "cell_type": "code",
   "execution_count": null,
   "id": "573ab51f",
   "metadata": {},
   "outputs": [],
   "source": []
  }
 ],
 "metadata": {
  "kernelspec": {
   "display_name": "env",
   "language": "python",
   "name": "env"
  },
  "language_info": {
   "codemirror_mode": {
    "name": "ipython",
    "version": 3
   },
   "file_extension": ".py",
   "mimetype": "text/x-python",
   "name": "python",
   "nbconvert_exporter": "python",
   "pygments_lexer": "ipython3",
   "version": "3.10.7"
  }
 },
 "nbformat": 4,
 "nbformat_minor": 5
}
